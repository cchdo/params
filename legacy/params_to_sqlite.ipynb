{
 "cells": [
  {
   "cell_type": "code",
   "execution_count": 1,
   "metadata": {},
   "outputs": [],
   "source": [
    "import json\n",
    "import sqlalchemy\n",
    "from sqlalchemy import UniqueConstraint, CheckConstraint\n",
    "from sqlalchemy.ext.declarative import declarative_base\n",
    "Base = declarative_base()"
   ]
  },
  {
   "cell_type": "code",
   "execution_count": 2,
   "metadata": {},
   "outputs": [],
   "source": [
    "from sqlalchemy import Column, Integer, String, Text, Enum, Float, Boolean\n",
    "from sqlalchemy import ForeignKey, ForeignKeyConstraint\n",
    "from sqlalchemy.orm import relationship\n",
    "\n",
    "from sqlalchemy import event\n",
    "from sqlalchemy.engine import Engine\n",
    "from sqlite3 import Connection as SQLite3Connection\n",
    "\n",
    "@event.listens_for(Engine, \"connect\")\n",
    "def _set_sqlite_pragma(dbapi_connection, connection_record):\n",
    "    if isinstance(dbapi_connection, SQLite3Connection):\n",
    "        cursor = dbapi_connection.cursor()\n",
    "        cursor.execute(\"PRAGMA foreign_keys=ON;\")\n",
    "        cursor.close()\n",
    "        \n",
    "from sqlalchemy import create_engine\n",
    "engine = create_engine('sqlite:///params.sqlite3', echo=False)"
   ]
  },
  {
   "cell_type": "code",
   "execution_count": 3,
   "metadata": {},
   "outputs": [],
   "source": [
    "class Unit(Base):\n",
    "    __tablename__ = 'ex_units'\n",
    "    \n",
    "    id = Column(Integer, primary_key=True)\n",
    "    whp_unit = Column(String, nullable=True, unique=True)\n",
    "    cf_unit = Column(String, nullable=False)\n",
    "    reference_scale = Column(String, nullable=True)\n",
    "    note = Column(Text, nullable=True)\n",
    "    \n",
    "class Param(Base):\n",
    "    __tablename__ = 'ex_params'\n",
    "    whp_name = Column(String, primary_key=True)\n",
    "    whp_number = Column(Integer, nullable=True)\n",
    "    description = Column(Text, nullable=True)\n",
    "    note = Column(Text, nullable=True)\n",
    "    warning = Column(Text, nullable=True)\n",
    "    \n",
    "    scope = Column(Enum('cruise', 'profile', 'sample'), nullable=False, server_default='sample')\n",
    "    dtype = Column(Enum('decimal', 'integer', 'string'), nullable=False, )\n",
    "    flag = Column(Enum('woce_bottle', 'woce_ctd', 'woce_discrete', 'no_flags'), nullable=False)\n",
    "    ancillary = Column(Boolean, nullable=False, server_default='0')\n",
    "    \n",
    "    rank = Column(Float, nullable=False)\n",
    "    \n",
    "\n",
    "class CFName(Base):\n",
    "    __tablename__ = 'cf_names'\n",
    "    \n",
    "    standard_name = Column(String, primary_key=True)\n",
    "    canonical_units = Column(String, nullable=True)\n",
    "    grib = Column(String, nullable=True)\n",
    "    amip = Column(String, nullable=True)\n",
    "    description = Column(Text, nullable=True)\n",
    "    \n",
    "class CFAlias(Base):\n",
    "    __tablename__ = 'cf_aliases'\n",
    "    \n",
    "    id = Column(Integer, primary_key=True) # cannot use numeric id since alias isn't unique\n",
    "    alias = Column(String, nullable=False)\n",
    "    standard_name = Column(String, ForeignKey(CFName.__table__.c.standard_name), nullable=False)\n",
    "    \n",
    "class WHPName(Base):\n",
    "    __tablename__ = 'whp_names'\n",
    "    \n",
    "    whp_name = Column(String, ForeignKey(Param.__table__.c.whp_name), primary_key=True)\n",
    "    whp_unit = Column(String, ForeignKey(Unit.__table__.c.whp_unit), primary_key=True, nullable=True)\n",
    "    standard_name = Column(String, ForeignKey(CFName.__table__.c.standard_name), nullable=True)\n",
    "    nc_name = Column(String, unique=True, nullable=True)\n",
    "    \n",
    "    numeric_min = Column(Float, nullable=True)\n",
    "    numeric_max = Column(Float, nullable=True)\n",
    "    \n",
    "    error_name = Column(String, nullable=True)\n",
    "    \n",
    "    analytical_temperature_name = Column(String, nullable=True)\n",
    "    analytical_temperature_units = Column(String, nullable=True)\n",
    "    \n",
    "    field_width = Column(Integer, nullable=False)\n",
    "    numeric_precision = Column(Integer, nullable=True)\n",
    "    \n",
    "    __table_args__ = (\n",
    "        ForeignKeyConstraint(\n",
    "            ['analytical_temperature_name', 'analytical_temperature_units'],\n",
    "            ['whp_names.whp_name', 'whp_names.whp_unit'],\n",
    "        ),\n",
    "    )\n",
    "    \n",
    "class Alias(Base):\n",
    "    __tablename__ = \"whp_alias\"\n",
    "    old_name = Column(String, primary_key=True)\n",
    "    old_unit = Column(String, primary_key=True, nullable=True)\n",
    "    whp_name = Column(String)\n",
    "    whp_unit = Column(String)\n",
    "    \n",
    "    __table_args__ = (\n",
    "        ForeignKeyConstraint(\n",
    "            ['whp_name', 'whp_unit'],\n",
    "            ['whp_names.whp_name', 'whp_names.whp_unit'],\n",
    "        ),\n",
    "    )\n",
    "    "
   ]
  },
  {
   "cell_type": "code",
   "execution_count": 4,
   "metadata": {},
   "outputs": [],
   "source": [
    "Base.metadata.create_all(engine)"
   ]
  },
  {
   "cell_type": "code",
   "execution_count": null,
   "metadata": {},
   "outputs": [],
   "source": []
  },
  {
   "cell_type": "code",
   "execution_count": 5,
   "metadata": {},
   "outputs": [],
   "source": [
    "from sqlalchemy.orm import sessionmaker\n",
    "from xml.etree import ElementTree\n",
    "Session = sessionmaker(bind=engine)\n",
    "session = Session()\n"
   ]
  },
  {
   "cell_type": "code",
   "execution_count": 6,
   "metadata": {},
   "outputs": [],
   "source": [
    "cf_names = []\n",
    "cf_aliases = []\n",
    "version_number = None\n",
    "for element in ElementTree.parse(\"cf-standard-name-table.xml\").getroot():\n",
    "    if element.tag == \"version_number\":\n",
    "        version_number = int(element.text)\n",
    "    if element.tag not in (\"entry\", \"alias\"):\n",
    "        continue\n",
    "\n",
    "    name = element.attrib[\"id\"]\n",
    "    name_info = {info.tag: info.text for info in element}\n",
    "\n",
    "    if element.tag == \"entry\":\n",
    "        cf_names.append(CFName(standard_name=name, **name_info))\n",
    "\n",
    "    if element.tag == \"alias\":\n",
    "        cf_aliases.append(CFAlias(alias=name, standard_name=name_info[\"entry_id\"]))"
   ]
  },
  {
   "cell_type": "code",
   "execution_count": 7,
   "metadata": {},
   "outputs": [],
   "source": [
    "with open(\"parameters.json\") as f:\n",
    "    params = json.load(f)\n",
    "units = {p[\"whp_unit\"]:p.get(\"cf_unit\") for p in params}\n",
    "refscales = {p[\"whp_unit\"]:p.get(\"reference_scale\") for p in params}\n",
    "\n",
    "unit_list = []\n",
    "for key, value in units.items():\n",
    "    cf_unit = value\n",
    "    if key is None:\n",
    "        unit_list.append(Unit(whp_unit=key, cf_unit=\"1\"))\n",
    "        continue\n",
    "    if cf_unit is None:\n",
    "        cf_unit = key.lower()\n",
    "    unit_list.append(Unit(whp_unit=key, cf_unit=cf_unit, reference_scale=refscales[key]))\n",
    "    \n",
    "\n",
    "session.add_all(cf_names)\n",
    "session.commit()\n",
    "session.add_all(cf_aliases)\n",
    "session.commit()\n",
    "session.add_all(unit_list)\n",
    "session.commit()"
   ]
  },
  {
   "cell_type": "code",
   "execution_count": 8,
   "metadata": {},
   "outputs": [],
   "source": [
    "whp_name = []\n",
    "db_params = []\n",
    "rank = 1\n",
    "for param in params:\n",
    "    if param['whp_name'] in whp_name:\n",
    "        continue\n",
    "    whp_name.append(param['whp_name'])\n",
    "    \n",
    "    flag = param[\"flag_w\"]\n",
    "    if flag == None:\n",
    "        flag = \"no_flags\"\n",
    "    db_params.append(Param(whp_name = param['whp_name'],\n",
    "    whp_number=(param.get(\"whp_number\")),\n",
    "    description=(param.get(\"description\")),\n",
    "    note=(param.get(\"note\")),\n",
    "    warning=(param.get(\"warning\")),\n",
    "    \n",
    "    scope=(param.get(\"scope\", \"sample\")),\n",
    "    dtype=(param[\"data_type\"]),\n",
    "    flag=flag,\n",
    "    rank=rank,\n",
    "    ancillary=False,\n",
    "         ))\n",
    "    rank+=1\n",
    "session.add_all(db_params)\n",
    "session.commit()"
   ]
  },
  {
   "cell_type": "code",
   "execution_count": 9,
   "metadata": {},
   "outputs": [],
   "source": [
    "whp_params = []\n",
    "for param in params:\n",
    "    whp_params.append(WHPName(\n",
    "        whp_name=param['whp_name'],\n",
    "        whp_unit=param['whp_unit'],\n",
    "        standard_name=param.get('cf_name'),\n",
    "        nc_name=None, #this is a todo\n",
    "        numeric_min=param.get('numeric_min'),\n",
    "        numeric_max=param.get('numeric_max'),\n",
    "        field_width=param.get('field_width'),\n",
    "        numeric_precision=param.get('numeric_precision'),\n",
    "        error_name=param.get(\"error_name\")\n",
    "    ))"
   ]
  },
  {
   "cell_type": "code",
   "execution_count": 10,
   "metadata": {},
   "outputs": [],
   "source": [
    "session.add_all(whp_params)\n",
    "session.commit()"
   ]
  },
  {
   "cell_type": "code",
   "execution_count": 11,
   "metadata": {},
   "outputs": [],
   "source": [
    "with open(\"aliases.json\") as f:\n",
    "    aliases = json.load(f)"
   ]
  },
  {
   "cell_type": "code",
   "execution_count": 12,
   "metadata": {},
   "outputs": [],
   "source": [
    "alias_ad = []\n",
    "for alias in aliases:\n",
    "    alias_ad.append(\n",
    "        Alias(\n",
    "            old_name = alias[\"whp_name\"],\n",
    "            old_unit = alias[\"whp_unit\"],\n",
    "            whp_name = alias[\"canonical_name\"],\n",
    "            whp_unit = alias[\"canonical_unit\"],\n",
    "        )\n",
    "    )"
   ]
  },
  {
   "cell_type": "code",
   "execution_count": 13,
   "metadata": {},
   "outputs": [],
   "source": [
    "session.add_all(alias_ad)"
   ]
  },
  {
   "cell_type": "code",
   "execution_count": 14,
   "metadata": {},
   "outputs": [],
   "source": [
    "session.commit()"
   ]
  },
  {
   "cell_type": "code",
   "execution_count": null,
   "metadata": {},
   "outputs": [],
   "source": []
  }
 ],
 "metadata": {
  "kernelspec": {
   "display_name": "Python 3",
   "language": "python",
   "name": "python3"
  },
  "language_info": {
   "codemirror_mode": {
    "name": "ipython",
    "version": 3
   },
   "file_extension": ".py",
   "mimetype": "text/x-python",
   "name": "python",
   "nbconvert_exporter": "python",
   "pygments_lexer": "ipython3",
   "version": "3.8.2"
  }
 },
 "nbformat": 4,
 "nbformat_minor": 4
}
